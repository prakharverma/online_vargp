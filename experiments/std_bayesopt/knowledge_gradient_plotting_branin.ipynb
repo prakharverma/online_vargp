{
 "cells": [
  {
   "cell_type": "code",
   "execution_count": null,
   "id": "treated-dragon",
   "metadata": {},
   "outputs": [],
   "source": [
    "import matplotlib.pyplot as plt\n",
    "import seaborn as sns\n",
    "sns.set(font_scale=2.0)\n",
    "\n",
    "label_fs = 40\n",
    "\n",
    "# sns.set_style('whitegrid')\n",
    "sns.set_palette(\"mako\")"
   ]
  },
  {
   "cell_type": "code",
   "execution_count": null,
   "id": "dutch-joshua",
   "metadata": {},
   "outputs": [],
   "source": [
    "import time\n",
    "import torch\n",
    "\n",
    "from botorch.acquisition.objective import ConstrainedMCObjective\n",
    "from botorch.acquisition.monte_carlo import qExpectedImprovement, qNoisyExpectedImprovement\n",
    "from botorch.acquisition.max_value_entropy_search import qLowerBoundMaxValueEntropy\n",
    "from botorch.acquisition.knowledge_gradient import qKnowledgeGradient\n",
    "from botorch.optim.fit import fit_gpytorch_torch\n",
    "from botorch.sampling.samplers import SobolQMCNormalSampler\n",
    "\n",
    "from utils import (\n",
    "    generate_initial_data,\n",
    "    parse,\n",
    "    optimize_acqf_and_get_observation,\n",
    "    update_random_observations,\n",
    "    get_var_model,\n",
    "    get_exact_model,\n",
    ")"
   ]
  },
  {
   "cell_type": "code",
   "execution_count": null,
   "id": "careful-piano",
   "metadata": {},
   "outputs": [],
   "source": [
    "from volatilitygp.mlls import PatchedVariationalELBO as VariationalELBO\n",
    "from gpytorch.mlls import ExactMarginalLogLikelihood"
   ]
  },
  {
   "cell_type": "code",
   "execution_count": null,
   "id": "sufficient-comparative",
   "metadata": {},
   "outputs": [],
   "source": [
    "import matplotlib.pyplot as plt\n",
    "from botorch.test_functions import Beale"
   ]
  },
  {
   "cell_type": "code",
   "execution_count": null,
   "id": "hungarian-ordinance",
   "metadata": {},
   "outputs": [],
   "source": [
    "torch.random.manual_seed(20)"
   ]
  },
  {
   "cell_type": "code",
   "execution_count": null,
   "id": "spiritual-qualification",
   "metadata": {},
   "outputs": [],
   "source": [
    "neg_hartmann6 = Beale(negate=True)\n",
    "\n",
    "bounds = neg_hartmann6.bounds\n",
    "\n",
    "dtype = torch.double # if dtype==\"double\" else torch.float\n",
    "device = torch.device(\"cuda:5\" if torch.cuda.is_available() else \"cpu\")"
   ]
  },
  {
   "cell_type": "code",
   "execution_count": null,
   "id": "textile-subdivision",
   "metadata": {},
   "outputs": [],
   "source": [
    "!nvidia-smi"
   ]
  },
  {
   "cell_type": "code",
   "execution_count": null,
   "id": "balanced-madrid",
   "metadata": {},
   "outputs": [],
   "source": [
    "def generate_initial_data(n, fn, NOISE_SE, device, dtype, is_poisson=False):\n",
    "    # generate training data\n",
    "    train_x = torch.rand(n, fn.dim, device=device, dtype=dtype)\n",
    "    exact_obj = fn(train_x).unsqueeze(-1)  # add output dimension\n",
    "    train_obj = exact_obj + NOISE_SE * torch.randn_like(exact_obj)\n",
    "    if is_poisson:\n",
    "        train_obj = Poisson(train_obj.exp()).sample()\n",
    "\n",
    "    best_observed_value = train_obj.max().item()\n",
    "    return train_x, train_obj, best_observed_value"
   ]
  },
  {
   "cell_type": "code",
   "execution_count": null,
   "id": "through-tuner",
   "metadata": {},
   "outputs": [],
   "source": [
    "    # call helper functions to generate initial training data and initialize model\n",
    "    train_x_ei, train_obj_ei, best_observed_value_ei = generate_initial_data(\n",
    "        n=50, fn=neg_hartmann6, NOISE_SE=0.2, device=device, dtype=dtype, is_poisson=False\n",
    "    )\n",
    "    train_yvar = 0.2 * torch.ones(1)"
   ]
  },
  {
   "cell_type": "code",
   "execution_count": null,
   "id": "through-volunteer",
   "metadata": {},
   "outputs": [],
   "source": []
  },
  {
   "cell_type": "code",
   "execution_count": null,
   "id": "included-sally",
   "metadata": {},
   "outputs": [],
   "source": [
    "svgp = get_var_model(train_x_ei, train_obj_ei, train_yvar, is_poisson=False)\n",
    "exact = get_exact_model(train_x_ei, train_obj_ei, train_yvar)"
   ]
  },
  {
   "cell_type": "code",
   "execution_count": null,
   "id": "obvious-portable",
   "metadata": {},
   "outputs": [],
   "source": [
    "svgp_mll = VariationalELBO(svgp.likelihood, svgp, num_data=50)\n",
    "exact_mll = ExactMarginalLogLikelihood(exact.likelihood, exact)"
   ]
  },
  {
   "cell_type": "code",
   "execution_count": null,
   "id": "funded-customer",
   "metadata": {},
   "outputs": [],
   "source": [
    "fit_gpytorch_torch(svgp_mll);\n",
    "fit_gpytorch_torch(exact_mll);"
   ]
  },
  {
   "cell_type": "code",
   "execution_count": null,
   "id": "criminal-taste",
   "metadata": {},
   "outputs": [],
   "source": [
    "bounds  = bounds.to(device)"
   ]
  },
  {
   "cell_type": "code",
   "execution_count": null,
   "id": "infectious-information",
   "metadata": {},
   "outputs": [],
   "source": [
    "from botorch.acquisition import qMaxValueEntropy, qKnowledgeGradient"
   ]
  },
  {
   "cell_type": "code",
   "execution_count": null,
   "id": "geological-latino",
   "metadata": {},
   "outputs": [],
   "source": [
    "candidate_set = torch.rand(250, bounds.size(1), device=device, dtype=dtype)\n",
    "candidate_set = bounds[0] + (bounds[1] - bounds[0]) * candidate_set"
   ]
  },
  {
   "cell_type": "code",
   "execution_count": null,
   "id": "palestinian-venture",
   "metadata": {},
   "outputs": [],
   "source": [
    "x_grid = torch.meshgrid(torch.linspace(-4.5, 4.5, 15), torch.linspace(-4.5, 4.5, 15))\n",
    "x_grid_vals = torch.cat((x_grid[0].reshape(-1, 1), x_grid[1].reshape(-1, 1)),dim=-1).to(device)"
   ]
  },
  {
   "cell_type": "code",
   "execution_count": null,
   "id": "progressive-ladder",
   "metadata": {},
   "outputs": [],
   "source": [
    "kg_svgp = qKnowledgeGradient(svgp, current_value=best_observed_value_ei, num_fantasies=8)\n",
    "kg_exact = qKnowledgeGradient(exact, current_value=best_observed_value_ei, num_fantasies=8)"
   ]
  },
  {
   "cell_type": "code",
   "execution_count": null,
   "id": "protected-remark",
   "metadata": {},
   "outputs": [],
   "source": [
    "expanded_candidates = candidate_set.unsqueeze(0).repeat(225, 1, 1)"
   ]
  },
  {
   "cell_type": "code",
   "execution_count": null,
   "id": "victorian-technical",
   "metadata": {},
   "outputs": [],
   "source": [
    "catted_x = torch.cat((x_grid_vals.unsqueeze(-2), expanded_candidates), dim=1)"
   ]
  },
  {
   "cell_type": "code",
   "execution_count": null,
   "id": "catholic-label",
   "metadata": {},
   "outputs": [],
   "source": [
    "with torch.no_grad():\n",
    "    kg_exact_val = kg_exact(catted_x).cpu()"
   ]
  },
  {
   "cell_type": "code",
   "execution_count": null,
   "id": "intended-public",
   "metadata": {},
   "outputs": [],
   "source": [
    "%pdb"
   ]
  },
  {
   "cell_type": "code",
   "execution_count": null,
   "id": "empirical-restaurant",
   "metadata": {},
   "outputs": [],
   "source": [
    "with torch.no_grad():\n",
    "    kg_svgp_val = kg_svgp(catted_x)"
   ]
  },
  {
   "cell_type": "code",
   "execution_count": null,
   "id": "technological-subsection",
   "metadata": {},
   "outputs": [],
   "source": [
    "plt.figure(figsize = (7,6))\n",
    "f = plt.contourf(*x_grid, kg_exact_val.reshape(15, 15).cpu(), cmap=\"mako\")\n",
    "plt.colorbar(f)\n",
    "plt.xlabel(\"x1\")\n",
    "plt.ylabel(\"x2\")\n",
    "plt.savefig(\"./kg_exact.pdf\", bbox_inches=\"tight\")\n",
    "# plt.title(\"KG - Exact\")"
   ]
  },
  {
   "cell_type": "code",
   "execution_count": null,
   "id": "funky-trinity",
   "metadata": {},
   "outputs": [],
   "source": [
    "plt.figure(figsize = (7,6))\n",
    "f = plt.contourf(*x_grid, kg_svgp_val.reshape(15, 15).cpu(), cmap=\"mako\")\n",
    "plt.colorbar(f)\n",
    "\n",
    "plt.xlabel(\"x1\")\n",
    "plt.ylabel(\"x2\")\n",
    "plt.savefig(\"./kg_svgp_exact.pdf\", bbox_inches=\"tight\")\n",
    "# plt.title(\"KG - SVGP\")"
   ]
  },
  {
   "cell_type": "code",
   "execution_count": null,
   "id": "detected-methodology",
   "metadata": {},
   "outputs": [],
   "source": [
    "svgp._memoize_cache = {}\n",
    "svgp.condition_into_exact = False"
   ]
  },
  {
   "cell_type": "code",
   "execution_count": null,
   "id": "presidential-camel",
   "metadata": {},
   "outputs": [],
   "source": [
    "kg_svgp = qKnowledgeGradient(svgp, current_value=best_observed_value_ei, num_fantasies=8)"
   ]
  },
  {
   "cell_type": "code",
   "execution_count": null,
   "id": "existing-stake",
   "metadata": {},
   "outputs": [],
   "source": [
    "with torch.no_grad():\n",
    "    kg_svgp_val = kg_svgp(catted_x)"
   ]
  },
  {
   "cell_type": "code",
   "execution_count": null,
   "id": "sapphire-sound",
   "metadata": {},
   "outputs": [],
   "source": [
    "plt.figure(figsize = (7,6))\n",
    "f = plt.contourf(*x_grid, kg_svgp_val.reshape(15, 15).cpu(), cmap=\"mako\")\n",
    "plt.colorbar(f)\n",
    "\n",
    "plt.xlabel(\"x1\")\n",
    "plt.ylabel(\"x2\")\n",
    "plt.savefig(\"./kg_svgp_sgpr.pdf\", bbox_inches=\"tight\")"
   ]
  },
  {
   "cell_type": "code",
   "execution_count": null,
   "id": "inner-algeria",
   "metadata": {},
   "outputs": [],
   "source": []
  }
 ],
 "metadata": {
  "kernelspec": {
   "display_name": "Python 3",
   "language": "python",
   "name": "python3"
  },
  "language_info": {
   "codemirror_mode": {
    "name": "ipython",
    "version": 3
   },
   "file_extension": ".py",
   "mimetype": "text/x-python",
   "name": "python",
   "nbconvert_exporter": "python",
   "pygments_lexer": "ipython3",
   "version": "3.7.6"
  }
 },
 "nbformat": 4,
 "nbformat_minor": 5
}
