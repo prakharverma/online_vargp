{
 "cells": [
  {
   "cell_type": "code",
   "execution_count": null,
   "id": "618b7bf4",
   "metadata": {},
   "outputs": [],
   "source": [
    "import matplotlib.pyplot as plt\n",
    "import torch\n",
    "\n",
    "import numpy as np\n",
    "\n",
    "from gpytorch.mlls import VariationalELBO\n",
    "from botorch.optim.fit import fit_gpytorch_torch\n",
    "\n",
    "from volatilitygp.models import SingleTaskVariationalGP\n",
    "from volatilitygp.likelihoods import BernoulliLikelihood"
   ]
  },
  {
   "cell_type": "code",
   "execution_count": null,
   "id": "750ff658",
   "metadata": {},
   "outputs": [],
   "source": [
    "import seaborn as sns\n",
    "sns.set(font_scale=2.0, rc={\"lines.linewidth\":4} )\n",
    "\n",
    "label_fs = 40\n",
    "\n",
    "sns.set_style('whitegrid')\n",
    "sns.set_palette(\"mako\")\n",
    "\n",
    "torch.__version__\n",
    "\n",
    "label_fs = 40"
   ]
  },
  {
   "cell_type": "code",
   "execution_count": null,
   "id": "22a2c098",
   "metadata": {},
   "outputs": [],
   "source": [
    "train_x = torch.tensor(np.loadtxt(\n",
    "    \"https://raw.githubusercontent.com/thangbui/streaming_sparse_gp/master/data/banana_train_x.txt\",\n",
    "    delimiter=\",\"\n",
    "))\n",
    "train_y = torch.tensor(np.loadtxt(\n",
    "    \"https://raw.githubusercontent.com/thangbui/streaming_sparse_gp/master/data/banana_train_y.txt\", delimiter=\",\"\n",
    "))\n",
    "train_y[train_y==-1]=0\n",
    "\n",
    "test_x = torch.tensor(np.loadtxt(\n",
    "    \"https://raw.githubusercontent.com/thangbui/streaming_sparse_gp/master/data/banana_test_x.txt\",\n",
    "    delimiter=\",\"\n",
    "))\n",
    "test_y = torch.tensor(np.loadtxt(\n",
    "    \"https://raw.githubusercontent.com/thangbui/streaming_sparse_gp/master/data/banana_test_y.txt\", delimiter=\",\"\n",
    "))\n",
    "test_y[test_y==-1]=0"
   ]
  },
  {
   "cell_type": "code",
   "execution_count": null,
   "id": "4bafefa6",
   "metadata": {},
   "outputs": [],
   "source": [
    "ordering = train_x[:,0].sort()[1]\n",
    "batch_1 = ordering[:100]\n",
    "batch_2 = ordering[100:200]\n",
    "batch_3 = ordering[200:300]\n",
    "batch_4 = ordering[300:]"
   ]
  },
  {
   "cell_type": "code",
   "execution_count": null,
   "id": "35b26013",
   "metadata": {},
   "outputs": [],
   "source": [
    "batches = [batch_2, batch_3, batch_4]"
   ]
  },
  {
   "cell_type": "code",
   "execution_count": null,
   "id": "17413399",
   "metadata": {},
   "outputs": [],
   "source": [
    "model = SingleTaskVariationalGP(\n",
    "    init_points=train_x[batch_1],\n",
    "    init_targets=train_y.view(-1)[batch_1],\n",
    "    num_inducing=100,\n",
    "    likelihood=BernoulliLikelihood(),\n",
    "    use_piv_chol_init=True,\n",
    ")\n",
    "\n",
    "mll = VariationalELBO(model.likelihood, model, num_data = 200)"
   ]
  },
  {
   "cell_type": "code",
   "execution_count": null,
   "id": "e3d111f3",
   "metadata": {},
   "outputs": [],
   "source": [
    "fit_gpytorch_torch(mll);"
   ]
  },
  {
   "cell_type": "code",
   "execution_count": null,
   "id": "e0c0b0fd",
   "metadata": {},
   "outputs": [],
   "source": [
    "predicted_steps = []\n",
    "pred_var = []\n",
    "\n",
    "fant_model = model\n",
    "for i in range(3):\n",
    "    laplace_post = fant_model.posterior(test_x, observation_noise=True)\n",
    "    prob = laplace_post.mean.exp() / (1 + laplace_post.mean.exp())\n",
    "    \n",
    "    f = plt.scatter(*test_x.t(), c=prob.detach(), s = 3, cmap=\"mako\")\n",
    "    plt.colorbar(f)\n",
    "    plt.title(\"Step: \" + str(i))\n",
    "    plt.show()\n",
    "    \n",
    "    predicted_steps.append(prob.detach())\n",
    "    \n",
    "    # so we only include V(f)\n",
    "    laplace_post = fant_model.posterior(test_x, observation_noise=False)\n",
    "    pred_var.append(laplace_post.variance.detach())\n",
    "    if i == 0:\n",
    "        fant_model = fant_model.get_fantasy_model(train_x[batch_2], train_y[batch_2], targets_are_gaussian=False)\n",
    "    else:\n",
    "        targets = model.inducing_model().likelihood.newton_iteration(\n",
    "            inputs=train_x[batches[i]], \n",
    "            targets=train_y[batches[i]], \n",
    "            covar=model.covar_module(train_x[batches[i]]),\n",
    "        )\n",
    "        noise = model.inducing_model().likelihood.neg_hessian_f(targets).diag()\n",
    "        \n",
    "        fant_model = fant_model.get_fantasy_model(train_x[batches[i]], targets, noise=noise.reciprocal())\n",
    "\n",
    "laplace_post = fant_model.posterior(test_x, observation_noise=False)\n",
    "prob = laplace_post.mean.exp() / (1 + laplace_post.mean.exp())\n",
    "predicted_steps.append(prob.detach())\n",
    "pred_var.append(laplace_post.variance.detach())\n",
    "f = plt.scatter(*test_x.t(), c=prob.detach(), s = 3)\n",
    "plt.colorbar(f)\n",
    "plt.title(\"Step: \" + str(3))\n",
    "plt.show()"
   ]
  },
  {
   "cell_type": "code",
   "execution_count": null,
   "id": "d3b6597c",
   "metadata": {},
   "outputs": [],
   "source": [
    "i"
   ]
  },
  {
   "cell_type": "code",
   "execution_count": null,
   "id": "c4e58305",
   "metadata": {},
   "outputs": [],
   "source": [
    "from mpl_toolkits.axes_grid1 import make_axes_locatable\n",
    "\n",
    "fig, ax = plt.subplots(1,4, figsize=(20, 5), sharex=True, sharey=True)\n",
    "\n",
    "f = ax[0].scatter(*test_x.t(), c=predicted_steps[0], s = 5, cmap=\"Blues\", vmin=-0.5)\n",
    "# fig.colorbar(f, ax=ax[0])\n",
    "f = ax[1].scatter(*test_x.t(), c=predicted_steps[1], s = 5, cmap=\"Blues\", vmin=-0.5)\n",
    "# fig.colorbar(f, ax=ax[1])\n",
    "f = ax[2].scatter(*test_x.t(), c=predicted_steps[2], s = 5, cmap=\"Blues\", vmin=-0.5)\n",
    "# fig.colorbar(f, ax=ax[2])\n",
    "f = ax[3].scatter(*test_x.t(), c=predicted_steps[3], s = 5, cmap=\"Blues\", vmin=-0.5)\n",
    "# fig.clim(0,1)\n",
    "divider = make_axes_locatable(ax[3])\n",
    "cax1 = divider.append_axes(\"right\", size=\"5%\", pad=0.05)\n",
    "cbar = fig.colorbar(f, cax=cax1,boundaries=np.linspace(0,1,999), label=\"Probability\")\n",
    "cbar.set_ticks([0., 0.25, 0.5, 0.75, 1.0])\n",
    "ax[0].set_xlim((-2.7,2.7))\n",
    "ax[0].set_ylim((-2.7,2.7))\n",
    "# ax[0].set_title(\"T = 100\")\n",
    "# ax[1].set_title(\"T = 200\")\n",
    "# ax[2].set_title(\"T = 300\")\n",
    "# ax[3].set_title(\"T = 400\")\n",
    "\n",
    "[ax[i].set_xlabel(\"x\") for i in range(4)]\n",
    "ax[0].set_ylabel(\"y\")\n",
    "plt.savefig(\"plots/bananas_probs.pdf\", bbox_inches=\"tight\")"
   ]
  },
  {
   "cell_type": "code",
   "execution_count": null,
   "id": "0fc334e8",
   "metadata": {},
   "outputs": [],
   "source": [
    "fig, ax = plt.subplots(1,4, figsize=(20, 5), sharex=True, sharey=True)\n",
    "\n",
    "f = ax[0].scatter(*train_x[batch_1].t(), c=train_y[batch_1], s = 50, cmap=\"Blues\", vmin=-0.5)\n",
    "# fig.colorbar(f, ax=ax[0])\n",
    "f = ax[1].scatter(*train_x[batch_1].t(), c=train_y[batch_1], s = 50, cmap=\"Blues\", vmin=-0.5)\n",
    "f = ax[1].scatter(*train_x[batch_2].t(), c=train_y[batch_2], s = 50, cmap=\"Blues\", vmin=-0.5)\n",
    "# fig.colorbar(f, ax=ax[1])\n",
    "f = ax[2].scatter(*train_x[batch_1].t(), c=train_y[batch_1], s = 50, cmap=\"Blues\", vmin=-0.5)\n",
    "f = ax[2].scatter(*train_x[batch_2].t(), c=train_y[batch_2], s = 50, cmap=\"Blues\", vmin=-0.5)\n",
    "f = ax[2].scatter(*train_x[batch_3].t(), c=train_y[batch_3], s = 50, cmap=\"Blues\", vmin=-0.5)\n",
    "# fig.colorbar(f, ax=ax[2])\n",
    "f = ax[3].scatter(*train_x.t(), c=train_y, s = 50, cmap=\"Blues\", vmin=-0.5)\n",
    "# fig.colorbar(f, ax=ax[3])\n",
    "ax[0].set_xlim((-2.7,2.7))\n",
    "ax[0].set_ylim((-2.7,2.7))\n",
    "\n",
    "ax[0].set_title(\"T = 100\")\n",
    "ax[1].set_title(\"T = 200\")\n",
    "ax[2].set_title(\"T = 300\")\n",
    "ax[3].set_title(\"T = 400\")\n",
    "\n",
    "[ax[i].set_xlabel(\"x\") for i in range(4)]\n",
    "ax[0].set_ylabel(\"y\")\n",
    "# plt.savefig(\"plots/bananas_incremental.pdf\", bbox_inches=\"tight\")"
   ]
  },
  {
   "cell_type": "code",
   "execution_count": null,
   "id": "8ab124fd",
   "metadata": {},
   "outputs": [],
   "source": [
    "plt.figure(figsize=(5,5))\n",
    "plt.scatter(*test_x.t(), c=test_y, cmap=\"mako\", s=3)"
   ]
  },
  {
   "cell_type": "code",
   "execution_count": null,
   "id": "b0a9a09e",
   "metadata": {},
   "outputs": [],
   "source": [
    "fig, ax = plt.subplots(1,4, figsize=(20, 5), sharex=True, sharey=True)\n",
    "\n",
    "color_map = plt.cm.get_cmap('Blues')\n",
    "reversed_color_map = color_map.reversed()\n",
    "f = ax[0].scatter(*test_x.t(), c=pred_var[0], s = 3, cmap=reversed_color_map, vmax=5, vmin=0)\n",
    "# fig.colorbar(f, ax=ax[0])\n",
    "f = ax[1].scatter(*test_x.t(), c=pred_var[1], s = 3, cmap=reversed_color_map, vmax=5, vmin=0)\n",
    "# fig.colorbar(f, ax=ax[1])\n",
    "f = ax[2].scatter(*test_x.t(), c=pred_var[2], s = 3, cmap=reversed_color_map, vmax=5, vmin=0)\n",
    "# fig.colorbar(f, ax=ax[2])\n",
    "f = ax[3].scatter(*test_x.t(), c=pred_var[3], s = 3, cmap=reversed_color_map, vmax=5, vmin=0)\n",
    "divider = make_axes_locatable(ax[3])\n",
    "cax1 = divider.append_axes(\"right\", size=\"5%\", pad=0.05)\n",
    "cbar = fig.colorbar(f, cax=cax1,boundaries=np.linspace(0,3.5,999), label=\"Variance\")\n",
    "cbar.set_ticks([0., 0.75, 1.5, 2.25, 3.0])\n",
    "ax[0].set_xlim((-2.7,2.7))\n",
    "ax[0].set_ylim((-2.7,2.7))\n",
    "[ax[i].set_xlabel(\"x\") for i in range(4)]\n",
    "ax[0].set_ylabel(\"y\")\n",
    "\n",
    "plt.savefig(\"plots/bananas_variance.pdf\", bbox_inches=\"tight\")"
   ]
  },
  {
   "cell_type": "code",
   "execution_count": null,
   "id": "d0757c03",
   "metadata": {},
   "outputs": [],
   "source": [
    "pred_var[3].max()"
   ]
  },
  {
   "cell_type": "code",
   "execution_count": null,
   "id": "766c1344",
   "metadata": {},
   "outputs": [],
   "source": []
  }
 ],
 "metadata": {
  "kernelspec": {
   "display_name": "Python 3.7.4 64-bit ('base': conda)",
   "language": "python",
   "name": "python37464bitbaseconda52eab690427c4f7ea56588deee120c46"
  },
  "language_info": {
   "codemirror_mode": {
    "name": "ipython",
    "version": 3
   },
   "file_extension": ".py",
   "mimetype": "text/x-python",
   "name": "python",
   "nbconvert_exporter": "python",
   "pygments_lexer": "ipython3",
   "version": "3.7.7"
  }
 },
 "nbformat": 4,
 "nbformat_minor": 5
}
