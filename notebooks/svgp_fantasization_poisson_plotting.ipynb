{
 "cells": [
  {
   "cell_type": "code",
   "execution_count": null,
   "metadata": {},
   "outputs": [],
   "source": [
    "import torch\n",
    "import gpytorch\n",
    "import matplotlib.pyplot as plt\n",
    "\n",
    "import seaborn as sns\n",
    "\n",
    "sns.set_style(\"whitegrid\")\n",
    "sns.set_palette(\"bright\")\n",
    "\n",
    "sns.set(font_scale=2.0)\n",
    "sns.set_style('whitegrid')\n",
    "\n",
    "torch.set_default_dtype(torch.double)\n",
    "torch.random.manual_seed(0)"
   ]
  },
  {
   "cell_type": "code",
   "execution_count": null,
   "metadata": {},
   "outputs": [],
   "source": [
    "from volatilitygp.models import SingleTaskVariationalGP\n",
    "from volatilitygp.likelihoods import PoissonLikelihood"
   ]
  },
  {
   "cell_type": "code",
   "execution_count": null,
   "metadata": {},
   "outputs": [],
   "source": [
    "train_x = torch.randn(150)\n",
    "\n",
    "fn = lambda x: 2. * torch.sin(4. * x)\n",
    "latent = fn(train_x)\n",
    "train_y = PoissonLikelihood()(latent).sample()"
   ]
  },
  {
   "cell_type": "code",
   "execution_count": null,
   "metadata": {},
   "outputs": [],
   "source": [
    "plt.scatter(train_x, train_y)\n",
    "plt.scatter(train_x, latent, c = \"green\", s=4)"
   ]
  },
  {
   "cell_type": "code",
   "execution_count": null,
   "metadata": {},
   "outputs": [],
   "source": [
    "model = SingleTaskVariationalGP(\n",
    "    mean_module=gpytorch.means.ZeroMean(),\n",
    "    init_points=3. * torch.randn(25,1), \n",
    "    likelihood = PoissonLikelihood(),\n",
    "    use_piv_chol_init=False,\n",
    "    covar_module = gpytorch.kernels.ScaleKernel(gpytorch.kernels.MaternKernel()),\n",
    "    use_whitened_var_strat=True,\n",
    "    learn_inducing_locations=True,\n",
    ")"
   ]
  },
  {
   "cell_type": "code",
   "execution_count": null,
   "metadata": {},
   "outputs": [],
   "source": [
    "# model.variational_strategy.inducing_points = torch.nn.Parameter(\n",
    "#     torch.linspace(-2, 4.5, 25).view(-1,1), requires_grad = False\n",
    "# )"
   ]
  },
  {
   "cell_type": "code",
   "execution_count": null,
   "metadata": {},
   "outputs": [],
   "source": [
    "model.train()\n",
    "# likelihood.train()\n",
    "\n",
    "optimizer = torch.optim.Adam([\n",
    "    {'params': model.parameters()},\n",
    "    # {'params': likelihood.parameters()},\n",
    "], lr=0.05)\n",
    "\n",
    "# Our loss object. We're using the VariationalELBO\n",
    "mll = gpytorch.mlls.VariationalELBO(model.likelihood, model, num_data=train_y.size(0))"
   ]
  },
  {
   "cell_type": "code",
   "execution_count": null,
   "metadata": {},
   "outputs": [],
   "source": [
    "for i in range(250):\n",
    "    optimizer.zero_grad()\n",
    "    loss = -mll(model(train_x), train_y)\n",
    "    loss.backward()\n",
    "    optimizer.step()\n",
    "    \n",
    "    if i % 50 == 0:\n",
    "        print(\"loss: \", loss.item())"
   ]
  },
  {
   "cell_type": "code",
   "execution_count": null,
   "metadata": {},
   "outputs": [],
   "source": [
    "model.eval()\n",
    "model.likelihood.eval()\n",
    "\n",
    "test_x = torch.linspace(-4, 7, 100)\n",
    "\n",
    "with torch.no_grad():\n",
    "    pred = model(test_x)"
   ]
  },
  {
   "cell_type": "code",
   "execution_count": null,
   "metadata": {},
   "outputs": [],
   "source": [
    "plt.scatter(train_x, latent, color = \"maroon\")\n",
    "plt.plot(test_x, pred.mean.detach())\n",
    "plt.fill_between(test_x, *[x.detach() for x in pred.confidence_region()], alpha = 0.3)"
   ]
  },
  {
   "cell_type": "code",
   "execution_count": null,
   "metadata": {},
   "outputs": [],
   "source": [
    "test_points = 3. * torch.rand(150, 1, requires_grad = False) + 1.5\n",
    "# test_values = model(test_points).rsample(torch.Size((128,))).unsqueeze(-1)\n",
    "test_latent = fn(test_points)\n",
    "test_values = PoissonLikelihood()(test_latent).sample()"
   ]
  },
  {
   "cell_type": "code",
   "execution_count": null,
   "metadata": {},
   "outputs": [],
   "source": [
    "test_values.shape"
   ]
  },
  {
   "cell_type": "code",
   "execution_count": null,
   "metadata": {},
   "outputs": [],
   "source": [
    "plt.scatter(train_x, train_y, color = \"maroon\")\n",
    "plt.scatter(test_points, test_values, color = \"red\")\n",
    "plt.scatter(model.variational_strategy.inducing_points.detach(),\n",
    "           5. * torch.ones(25, 1))"
   ]
  },
  {
   "cell_type": "code",
   "execution_count": null,
   "metadata": {},
   "outputs": [],
   "source": [
    "%pdb"
   ]
  },
  {
   "cell_type": "code",
   "execution_count": null,
   "metadata": {},
   "outputs": [],
   "source": [
    "fant_model = model.get_fantasy_model(test_points, test_values.squeeze(), targets_are_gaussian=False)"
   ]
  },
  {
   "cell_type": "code",
   "execution_count": null,
   "metadata": {},
   "outputs": [],
   "source": [
    "ind_responses = fant_model.train_targets\n",
    "ind_points = fant_model.train_inputs[0]"
   ]
  },
  {
   "cell_type": "code",
   "execution_count": null,
   "metadata": {},
   "outputs": [],
   "source": [
    "plt.scatter(train_x, latent, color = \"maroon\")\n",
    "plt.scatter(ind_points.detach(), ind_responses.detach())\n"
   ]
  },
  {
   "cell_type": "code",
   "execution_count": null,
   "metadata": {},
   "outputs": [],
   "source": [
    "# plt.scatter(fant_model.covar_module.inducing_points.data, torch.ones(25))"
   ]
  },
  {
   "cell_type": "code",
   "execution_count": null,
   "metadata": {},
   "outputs": [],
   "source": [
    "fant_model.eval()\n",
    "fant_model.likelihood.eval()\n",
    "\n",
    "with torch.no_grad():\n",
    "    fant_pred = fant_model(test_x)"
   ]
  },
  {
   "cell_type": "code",
   "execution_count": null,
   "metadata": {},
   "outputs": [],
   "source": [
    "plt.plot(test_x, fant_pred.variance.detach())\n",
    "plt.plot(test_x, pred.variance.detach())\n",
    "\n",
    "plt.scatter(train_x, 0.1 * torch.ones_like(train_x), color = \"maroon\")\n",
    "plt.scatter(test_points, 0.1 * torch.ones_like(test_points), color = \"red\")"
   ]
  },
  {
   "cell_type": "code",
   "execution_count": null,
   "metadata": {},
   "outputs": [],
   "source": [
    "palette = sns.color_palette(\"Paired\", 10)\n",
    "palette.reverse()"
   ]
  },
  {
   "cell_type": "code",
   "execution_count": null,
   "metadata": {},
   "outputs": [],
   "source": [
    "from matplotlib.ticker import MaxNLocator\n",
    "\n",
    "fig, ax = plt.subplots(1, 1, figsize = (8, 6.1))\n",
    "ax.xaxis.set_major_locator(MaxNLocator(integer=True))\n",
    "ax.yaxis.set_major_locator(MaxNLocator(integer=True))\n",
    "\n",
    "ax2 = ax.twinx()\n",
    "\n",
    "ax2.plot(test_x, pred.mean.detach(), label = \"Original Model\", color = palette[-2], linewidth=3, alpha = 0.8)\n",
    "ax2.fill_between(test_x, *[x.detach() for x in pred.confidence_region()], alpha = 0.2, color = palette[-2])\n",
    "\n",
    "ax2.plot(test_x, fant_pred.mean.detach(), label = \"Fantasy Model\", color = palette[0], linewidth=3, alpha = 0.8)\n",
    "ax2.fill_between(test_x, *[x.detach() for x in fant_pred.confidence_region()], alpha = 0.2, color = palette[0])\n",
    "ax2.set_ylabel(\"Latent\")\n",
    "\n",
    "ax.scatter(train_x, train_y, color = palette[4], label = \"Training Points\", marker = \"x\", s = 100, alpha = 0.3)\n",
    "ax.scatter(test_points, test_values, color = palette[2], label = \"Fantasy Points\", s = 100, alpha = 0.3)\n",
    "\n",
    "# plt.plot(torch.sort(train_x)[0], fn(torch.sort(train_x)[0]), color = palette[4], linewidth=3)\n",
    "# plt.plot(torch.sort(test_points.view(-1))[0], fn(torch.sort(test_points.view(-1))[0]), color = palette[2], linewidth=3)\n",
    "plt.plot(torch.linspace(-4, 7, 100), fn(torch.linspace(-4, 7, 100)), \n",
    "         linestyle=\"--\", color = palette[4], linewidth=3, zorder=0)\n",
    "# plt.legend(ncol = 1, loc = \"upper center\", bbox_to_anchor = (0.5, -0.2))\n",
    "ax.set_xlabel(\"x\")\n",
    "ax.set_ylabel(\"y\")\n",
    "ax.grid()\n",
    "\n",
    "plt.savefig(\"fantasization_poisson.pdf\", bbox_inches=\"tight\")"
   ]
  },
  {
   "cell_type": "code",
   "execution_count": null,
   "metadata": {},
   "outputs": [],
   "source": [
    "torch.sort(test_points)[0]"
   ]
  },
  {
   "cell_type": "code",
   "execution_count": null,
   "metadata": {},
   "outputs": [],
   "source": []
  }
 ],
 "metadata": {
  "kernelspec": {
   "display_name": "Python 3",
   "language": "python",
   "name": "python3"
  },
  "language_info": {
   "codemirror_mode": {
    "name": "ipython",
    "version": 3
   },
   "file_extension": ".py",
   "mimetype": "text/x-python",
   "name": "python",
   "nbconvert_exporter": "python",
   "pygments_lexer": "ipython3",
   "version": "3.7.7"
  }
 },
 "nbformat": 4,
 "nbformat_minor": 4
}
