{
 "cells": [
  {
   "cell_type": "code",
   "execution_count": null,
   "metadata": {},
   "outputs": [],
   "source": [
    "import torch\n",
    "import gpytorch\n",
    "import matplotlib.pyplot as plt\n",
    "\n",
    "import seaborn as sns\n",
    "sns.set_style(\"whitegrid\")\n",
    "sns.set_palette(\"bright\")\n",
    "\n",
    "sns.set(font_scale=2.0)\n",
    "sns.set_style('whitegrid')\n",
    "\n",
    "\n",
    "torch.set_default_dtype(torch.double)\n",
    "torch.random.manual_seed(0)"
   ]
  },
  {
   "cell_type": "code",
   "execution_count": null,
   "metadata": {},
   "outputs": [],
   "source": [
    "palette = sns.light_palette(\"#57068c\", 2, reverse=True)\n",
    "palette"
   ]
  },
  {
   "cell_type": "code",
   "execution_count": null,
   "metadata": {},
   "outputs": [],
   "source": [
    "exact_palette = sns.light_palette(\"#28619e\", 10, reverse=True)\n",
    "exact_palette"
   ]
  },
  {
   "cell_type": "code",
   "execution_count": null,
   "metadata": {},
   "outputs": [],
   "source": [
    "from volatilitygp.models import SingleTaskVariationalGP"
   ]
  },
  {
   "cell_type": "code",
   "execution_count": null,
   "metadata": {},
   "outputs": [],
   "source": [
    "train_x = torch.randn(100)\n",
    "\n",
    "fn = lambda x: torch.sin(2. * x.abs() + x**2 / 2)\n",
    "train_y = fn(train_x)"
   ]
  },
  {
   "cell_type": "code",
   "execution_count": null,
   "metadata": {},
   "outputs": [],
   "source": [
    "plt.scatter(train_x, train_y)"
   ]
  },
  {
   "cell_type": "code",
   "execution_count": null,
   "metadata": {},
   "outputs": [],
   "source": [
    "model = SingleTaskVariationalGP(\n",
    "    mean_module=gpytorch.means.ZeroMean(),\n",
    "    init_points=3. * torch.randn(25,1), \n",
    "    likelihood = gpytorch.likelihoods.GaussianLikelihood(),\n",
    "    use_piv_chol_init=True,\n",
    "    use_whitened_var_strat=True,\n",
    ")\n",
    "model.likelihood.noise = 0.01\n",
    "model.likelihood.raw_noise.detach_()"
   ]
  },
  {
   "cell_type": "code",
   "execution_count": null,
   "metadata": {},
   "outputs": [],
   "source": [
    "model.train()\n",
    "# likelihood.train()\n",
    "\n",
    "optimizer = torch.optim.Adam([\n",
    "    {'params': model.parameters()},\n",
    "    # {'params': likelihood.parameters()},\n",
    "], lr=0.1)\n",
    "\n",
    "# Our loss object. We're using the VariationalELBO\n",
    "mll = gpytorch.mlls.VariationalELBO(model.likelihood, model, num_data=train_y.size(0))"
   ]
  },
  {
   "cell_type": "code",
   "execution_count": null,
   "metadata": {},
   "outputs": [],
   "source": [
    "for i in range(350):\n",
    "    optimizer.zero_grad()\n",
    "    loss = -mll(model(train_x), train_y)\n",
    "    loss.backward()\n",
    "    optimizer.step()\n",
    "    \n",
    "    if i % 50 == 0:\n",
    "        print(\"loss: \", loss.item())"
   ]
  },
  {
   "cell_type": "code",
   "execution_count": null,
   "metadata": {},
   "outputs": [],
   "source": [
    "model.eval()\n",
    "model.likelihood.eval()\n",
    "\n",
    "test_x = torch.linspace(-4, 7, 100)\n",
    "\n",
    "with torch.no_grad():\n",
    "    pred = model.likelihood(model(test_x))"
   ]
  },
  {
   "cell_type": "code",
   "execution_count": null,
   "metadata": {},
   "outputs": [],
   "source": [
    "plt.scatter(train_x, train_y, color = \"maroon\")\n",
    "plt.plot(test_x, pred.mean.detach())\n",
    "plt.fill_between(test_x, *[x.detach() for x in pred.confidence_region()], alpha = 0.3)"
   ]
  },
  {
   "cell_type": "code",
   "execution_count": null,
   "metadata": {},
   "outputs": [],
   "source": [
    "model.variational_strategy.variational_distribution"
   ]
  },
  {
   "cell_type": "code",
   "execution_count": null,
   "metadata": {},
   "outputs": [],
   "source": [
    "test_points = 3. * torch.rand(25, 1, requires_grad = False) + 2.5\n",
    "# test_values = model(test_points).rsample(torch.Size((128,))).unsqueeze(-1)\n",
    "test_values = fn(test_points).view(-1)"
   ]
  },
  {
   "cell_type": "code",
   "execution_count": null,
   "metadata": {},
   "outputs": [],
   "source": [
    "test_values.shape"
   ]
  },
  {
   "cell_type": "code",
   "execution_count": null,
   "metadata": {},
   "outputs": [],
   "source": [
    "plt.scatter(train_x, train_y, color = \"maroon\")\n",
    "plt.scatter(test_points, test_values, color = \"red\")"
   ]
  },
  {
   "cell_type": "code",
   "execution_count": null,
   "metadata": {},
   "outputs": [],
   "source": [
    "%pdb"
   ]
  },
  {
   "cell_type": "code",
   "execution_count": null,
   "metadata": {},
   "outputs": [],
   "source": [
    "fant_model = model.condition_on_observations(test_points, test_values, condition_into_sgpr=False)"
   ]
  },
  {
   "cell_type": "code",
   "execution_count": null,
   "metadata": {},
   "outputs": [],
   "source": [
    "fant_model.eval()\n",
    "fant_model.likelihood.eval()\n",
    "\n",
    "with torch.no_grad():\n",
    "    fant_pred = fant_model.likelihood(fant_model(test_x))"
   ]
  },
  {
   "cell_type": "code",
   "execution_count": null,
   "metadata": {},
   "outputs": [],
   "source": [
    "ind_points = model.variational_strategy.inducing_points[:,0].detach()\n",
    "pseudo_responses = fant_model.train_targets[25:].detach()"
   ]
  },
  {
   "cell_type": "code",
   "execution_count": null,
   "metadata": {},
   "outputs": [],
   "source": [
    "pseudo_responses.max()"
   ]
  },
  {
   "cell_type": "code",
   "execution_count": null,
   "metadata": {},
   "outputs": [],
   "source": [
    "plt.scatter(ind_points, pseudo_responses)\n",
    "plt.scatter(test_points, fant_model.train_targets[:25].detach())"
   ]
  },
  {
   "cell_type": "code",
   "execution_count": null,
   "metadata": {},
   "outputs": [],
   "source": [
    "plt.plot(test_x, fant_pred.variance)\n",
    "plt.plot(test_x, pred.variance.detach())\n",
    "\n",
    "plt.scatter(train_x, 0.1 * torch.ones_like(train_x), color = \"maroon\")\n",
    "plt.scatter(test_points, 0.1 * torch.ones_like(test_points), color = \"red\")"
   ]
  },
  {
   "cell_type": "code",
   "execution_count": null,
   "metadata": {},
   "outputs": [],
   "source": [
    "fig, ax = plt.subplots(1, 1, figsize = (8, 6))\n",
    "\n",
    "plt.plot(test_x, exact_pred.mean.detach(), label = \"Original GP\", \n",
    "         color = exact_palette[3], linewidth=6, alpha = 0.8)\n",
    "plt.plot(test_x, fant_exact_pred.mean.detach(), label = \"Conditioned GP\", \n",
    "         color = exact_palette[0], linewidth=6, alpha = 0.8)\n",
    "plt.plot(test_x, pred.mean.detach(), label = \"Original SVGP\", color = palette[3], linewidth=6, alpha = 0.8)\n",
    "#plt.fill_between(test_x, *[x.detach() for x in pred.confidence_region()], alpha = 0.2, color = palette[-2])\n",
    "\n",
    "plt.plot(test_x, fant_pred.mean.detach(), label = \"Conditioned SVGP\", color = palette[0], linewidth=6, alpha = 0.8)\n",
    "#plt.fill_between(test_x, *[x.detach() for x in fant_pred.confidence_region()], alpha = 0.2, color = palette[0])\n",
    "\n",
    "plt.plot(torch.linspace(-4, 7, 100), \n",
    "         fn(torch.linspace(-4, 7, 100)), \n",
    "         color = \"#6d6d6d\", linestyle=\"--\", linewidth=6, \n",
    "         label = \"True Latent\", zorder=0)\n",
    "\n",
    "plt.scatter(train_x, train_y, color = \"#d71e5e\", label = \"Training Points\", marker = \"x\", \n",
    "            s = 400, alpha = 0.5,linewidths=6)\n",
    "plt.scatter(test_points, test_values, color = \"#d71e5e\", label = \"New Points\", \n",
    "            s = 400, marker = \"x\",linewidths=6)\n",
    "\n",
    "plt.legend(ncol = 7, loc = \"upper center\", bbox_to_anchor = (0.5, -0.2))\n",
    "plt.xlabel(\"x\")\n",
    "plt.ylabel(\"y\")\n",
    "plt.xlim((-4, 7))\n",
    "plt.savefig(\"fantasization_label.pdf\", bbox_inches=\"tight\")\n"
   ]
  },
  {
   "cell_type": "code",
   "execution_count": null,
   "metadata": {},
   "outputs": [],
   "source": [
    "fig, ax = plt.subplots(2, 1, figsize = (8, 6), sharex=True, sharey=True, dpi=300)\n",
    "\n",
    "ax[0].plot(test_x, pred.mean.detach(), label = \"Original Model\", \n",
    "           color = palette[3], linewidth=4, alpha = 0.8)\n",
    "ax[0].fill_between(test_x, *[x.detach() for x in pred.confidence_region()], alpha = 0.2, color = palette[3])\n",
    "\n",
    "ax[1].plot(test_x, fant_pred.mean.detach(), label = \"Conditioned Model\", \n",
    "           color = palette[0], linewidth=4, alpha = 0.8)\n",
    "ax[1].fill_between(test_x, *[x.detach() for x in fant_pred.confidence_region()], alpha = 0.2, color = palette[0])\n",
    "\n",
    "ax[0].plot(torch.linspace(-4, 7, 100), \n",
    "         fn(torch.linspace(-4, 7, 100)), \n",
    "         color = \"#6d6d6d\", linestyle=\"--\", linewidth=3, \n",
    "         label = \"True Latent\", zorder=0)\n",
    "ax[1].plot(torch.linspace(-4, 7, 100), \n",
    "         fn(torch.linspace(-4, 7, 100)), \n",
    "         color = \"#6d6d6d\", linestyle=\"--\", linewidth=3, \n",
    "         label = \"True Latent\", zorder=0)\n",
    "\n",
    "ax[0].scatter(train_x, train_y, color = \"#d71e5e\", label = \"Training Points\", marker = \"x\", s = 100, zorder=30)\n",
    "ax[1].scatter(train_x, train_y, color = \"#d71e5e\", label = \"Training Points\", marker = \"x\", s = 100, \n",
    "              alpha = 0.2, zorder=300)\n",
    "ax[1].scatter(test_points, test_values, color = \"#d71e5e\", marker = \"x\", label = \"New Points\", s = 100, zorder=30)\n",
    "\n",
    "# plt.legend(ncol = 5, loc = \"upper center\", bbox_to_anchor = (0.5, -0.2))\n",
    "ax[0].set_xlabel(\"x\")\n",
    "ax[0].set_ylabel(\"y\")\n",
    "ax[1].set_xlabel(\"x\")\n",
    "ax[1].set_ylabel(\"y\")\n",
    "plt.xlim((-4, 7))\n",
    "plt.ylim((-2, 2))\n",
    "plt.savefig(\"fantasization_svgp_gaussian.pdf\", bbox_inches = \"tight\")"
   ]
  },
  {
   "cell_type": "code",
   "execution_count": null,
   "metadata": {},
   "outputs": [],
   "source": [
    "from botorch.models import SingleTaskGP\n",
    "from botorch.optim.fit import fit_gpytorch_torch\n",
    "from gpytorch.likelihoods import GaussianLikelihood\n",
    "from gpytorch.mlls import ExactMarginalLogLikelihood\n",
    "from gpytorch.kernels import ScaleKernel, RBFKernel"
   ]
  },
  {
   "cell_type": "code",
   "execution_count": null,
   "metadata": {},
   "outputs": [],
   "source": [
    "exact_model = SingleTaskGP(train_x.reshape(-1,1), train_y.reshape(-1, 1), likelihood=GaussianLikelihood(), \n",
    "                    covar_module = ScaleKernel(RBFKernel()))\n",
    "exact_model.likelihood.noise = 0.01\n",
    "exact_model.likelihood.raw_noise.detach_()"
   ]
  },
  {
   "cell_type": "code",
   "execution_count": null,
   "metadata": {},
   "outputs": [],
   "source": [
    "mll = ExactMarginalLogLikelihood(exact_model.likelihood, exact_model)\n",
    "fit_gpytorch_torch(mll);"
   ]
  },
  {
   "cell_type": "code",
   "execution_count": null,
   "metadata": {},
   "outputs": [],
   "source": [
    "exact_model.eval()\n",
    "exact_model.likelihood.eval()\n",
    "\n",
    "with torch.no_grad():\n",
    "    exact_pred = exact_model.likelihood(exact_model(test_x))\n",
    "    \n",
    "# exact_pred = exact_model.posterior(test_points)\n",
    "fant_exact_model = exact_model.condition_on_observations(test_points, test_values)"
   ]
  },
  {
   "cell_type": "code",
   "execution_count": null,
   "metadata": {},
   "outputs": [],
   "source": [
    "fant_exact_model.eval()\n",
    "fant_exact_model.likelihood.eval()\n",
    "\n",
    "with torch.no_grad():\n",
    "    fant_exact_pred = fant_exact_model.likelihood(fant_exact_model(test_x))"
   ]
  },
  {
   "cell_type": "code",
   "execution_count": null,
   "metadata": {},
   "outputs": [],
   "source": [
    "fig, ax = plt.subplots(2, 1, figsize = (8, 6), sharex=True, sharey=True, dpi=300)\n",
    "\n",
    "ax[0].plot(test_x, exact_pred.mean.detach(), label = \"Original Model\", \n",
    "           color = exact_palette[3], linewidth=4, alpha = 0.8)\n",
    "ax[0].fill_between(test_x, *[x.detach() for x in exact_pred.confidence_region()], alpha = 0.2, \n",
    "                   color = exact_palette[3])\n",
    "\n",
    "ax[1].plot(test_x, fant_exact_pred.mean.detach(), label = \"Conditioned Model\", \n",
    "           color = exact_palette[0], linewidth=4, alpha = 0.8)\n",
    "ax[1].fill_between(test_x, *[x.detach() for x in fant_exact_pred.confidence_region()], \n",
    "                   alpha = 0.2, color = exact_palette[0])\n",
    "\n",
    "ax[0].scatter(train_x, train_y, color = \"#d71e5e\", label = \"Training Points\", marker = \"x\", s = 100, zorder=30)\n",
    "ax[1].scatter(train_x, train_y, color = \"#d71e5e\", label = \"Training Points\", marker = \"x\", s = 100, \n",
    "              alpha = 0.2, zorder=300)\n",
    "ax[1].scatter(test_points, test_values, color = \"#d71e5e\", marker = \"x\", label = \"New Points\", s = 100, zorder=30)\n",
    "\n",
    "ax[0].plot(torch.linspace(-4, 7, 100), \n",
    "         fn(torch.linspace(-4, 7, 100)), \n",
    "         color = \"#6d6d6d\", linestyle=\"--\", linewidth=3, \n",
    "         label = \"True Latent\", zorder=0)\n",
    "ax[1].plot(torch.linspace(-4, 7, 100), \n",
    "         fn(torch.linspace(-4, 7, 100)), \n",
    "         color = \"#6d6d6d\", linestyle=\"--\", linewidth=3, \n",
    "         label = \"True Latent\", zorder=0)\n",
    "\n",
    "# plt.legend(ncol = 5, loc = \"upper center\", bbox_to_anchor = (0.5, -0.2))\n",
    "ax[0].set_xlabel(\"x\")\n",
    "ax[0].set_ylabel(\"y\")\n",
    "ax[1].set_xlabel(\"x\")\n",
    "ax[1].set_ylabel(\"y\")\n",
    "plt.xlim((-4, 7))\n",
    "plt.ylim((-2, 2))\n",
    "plt.savefig(\"fantasization_exact_gaussian.pdf\", bbox_inches = \"tight\")"
   ]
  },
  {
   "cell_type": "code",
   "execution_count": null,
   "metadata": {},
   "outputs": [],
   "source": []
  }
 ],
 "metadata": {
  "kernelspec": {
   "display_name": "Python 3.7.4 64-bit ('base': conda)",
   "language": "python",
   "name": "python37464bitbaseconda52eab690427c4f7ea56588deee120c46"
  },
  "language_info": {
   "codemirror_mode": {
    "name": "ipython",
    "version": 3
   },
   "file_extension": ".py",
   "mimetype": "text/x-python",
   "name": "python",
   "nbconvert_exporter": "python",
   "pygments_lexer": "ipython3",
   "version": "3.7.7"
  }
 },
 "nbformat": 4,
 "nbformat_minor": 4
}
